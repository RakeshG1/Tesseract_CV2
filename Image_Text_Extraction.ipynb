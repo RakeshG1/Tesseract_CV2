{
 "cells": [
  {
   "cell_type": "markdown",
   "metadata": {},
   "source": [
    "#### `Import Libraries`"
   ]
  },
  {
   "cell_type": "code",
   "execution_count": 53,
   "metadata": {},
   "outputs": [],
   "source": [
    "import numpy as np\n",
    "import os\n",
    "import pytesseract\n",
    "import cv2\n",
    "import warnings \n",
    "import matplotlib\n",
    "from matplotlib import pyplot as plt\n",
    "\n",
    "warnings.filterwarnings(\"ignore\")\n",
    "%matplotlib inline\n",
    "# %matplotlib notebook"
   ]
  },
  {
   "cell_type": "code",
   "execution_count": 33,
   "metadata": {},
   "outputs": [
    {
     "name": "stdout",
     "output_type": "stream",
     "text": [
      "['Solarize_Light2', '_classic_test_patch', '_mpl-gallery', '_mpl-gallery-nogrid', 'bmh', 'classic', 'dark_background', 'fast', 'fivethirtyeight', 'ggplot', 'grayscale', 'seaborn', 'seaborn-bright', 'seaborn-colorblind', 'seaborn-dark', 'seaborn-dark-palette', 'seaborn-darkgrid', 'seaborn-deep', 'seaborn-muted', 'seaborn-notebook', 'seaborn-paper', 'seaborn-pastel', 'seaborn-poster', 'seaborn-talk', 'seaborn-ticks', 'seaborn-white', 'seaborn-whitegrid', 'tableau-colorblind10']\n"
     ]
    }
   ],
   "source": [
    "print(plt.style.available)"
   ]
  },
  {
   "cell_type": "markdown",
   "metadata": {},
   "source": [
    "#### `Load Image`"
   ]
  },
  {
   "cell_type": "code",
   "execution_count": 34,
   "metadata": {},
   "outputs": [],
   "source": [
    "filepath = os.getcwd() + \"/Sample.png\""
   ]
  },
  {
   "cell_type": "markdown",
   "metadata": {},
   "source": [
    "- `Actual Image`"
   ]
  },
  {
   "cell_type": "markdown",
   "metadata": {},
   "source": [
    "![](./Sample.png)"
   ]
  },
  {
   "cell_type": "markdown",
   "metadata": {},
   "source": [
    "#### `cv2 Image Plot`"
   ]
  },
  {
   "cell_type": "code",
   "execution_count": 36,
   "metadata": {},
   "outputs": [
    {
     "data": {
      "text/plain": [
       "<Figure size 640x480 with 0 Axes>"
      ]
     },
     "metadata": {},
     "output_type": "display_data"
    },
    {
     "data": {
      "image/png": "[encoded data removed]",
      "text/plain": [
       "<Figure size 1200x900 with 1 Axes>"
      ]
     },
     "metadata": {},
     "output_type": "display_data"
    },
    {
     "name": "stdout",
     "output_type": "stream",
     "text": [
      "--------------------\n",
      "Image Values\n",
      "--------------------\n",
      "Company\n",
      "\n",
      "Company Name Company_Xx\n",
      "\n",
      "Employee Name Employee_X\n",
      "\f\n"
     ]
    }
   ],
   "source": [
    "##############\n",
    "# Clear Plot #\n",
    "##############\n",
    "plt.clf()\n",
    "################\n",
    "# Select Theme #\n",
    "################\n",
    "plt.style.use(\"classic\")\n",
    "########\n",
    "# Plot #\n",
    "########\n",
    "fig, axes = plt.subplots(nrows=1, ncols=1, dpi=150)#, figsize=(8,8)\n",
    "##############################\n",
    "# Read Image into cv2 object #\n",
    "##############################\n",
    "img = cv2.imread(filepath)\n",
    "# img = cv2.resize(img, (1000, 480)) \n",
    "# cv2.imshow('Result', img)\n",
    "# plt.subplot(1, 2, 1)\n",
    "plt.axis('off')\n",
    "plt.imshow(img)\n",
    "plt.show()\n",
    "###################\n",
    "# Image to String #\n",
    "###################\n",
    "image_values = pytesseract.image_to_string(img)\n",
    "print(\"--\"*10)\n",
    "print(\"Image Values\")\n",
    "print(\"--\"*10)\n",
    "print(image_values)"
   ]
  },
  {
   "cell_type": "markdown",
   "metadata": {},
   "source": [
    "- `Image Class Type`"
   ]
  },
  {
   "cell_type": "code",
   "execution_count": 37,
   "metadata": {},
   "outputs": [
    {
     "name": "stdout",
     "output_type": "stream",
     "text": [
      "<class 'str'>\n"
     ]
    }
   ],
   "source": [
    "print(type(image_values))"
   ]
  },
  {
   "cell_type": "markdown",
   "metadata": {},
   "source": [
    "- `Image Values : Raw`"
   ]
  },
  {
   "cell_type": "code",
   "execution_count": 38,
   "metadata": {},
   "outputs": [
    {
     "data": {
      "text/plain": [
       "'Company\\n\\nCompany Name Company_Xx\\n\\nEmployee Name Employee_X\\n\\x0c'"
      ]
     },
     "execution_count": 38,
     "metadata": {},
     "output_type": "execute_result"
    }
   ],
   "source": [
    "image_values"
   ]
  },
  {
   "cell_type": "markdown",
   "metadata": {},
   "source": [
    "#### `cv2 Image Text Positions`"
   ]
  },
  {
   "cell_type": "code",
   "execution_count": 40,
   "metadata": {},
   "outputs": [],
   "source": [
    "image_values_pos = pytesseract.image_to_boxes(img)"
   ]
  },
  {
   "cell_type": "markdown",
   "metadata": {},
   "source": [
    "- `Image Values Positions : Raw`"
   ]
  },
  {
   "cell_type": "code",
   "execution_count": 41,
   "metadata": {},
   "outputs": [
    {
     "data": {
      "text/plain": [
       "'C 679 141 689 152 0\\no 691 141 698 149 0\\nm 699 141 711 149 0\\np 702 138 718 152 0\\na 712 138 720 149 0\\nn 721 141 728 149 0\\ny 729 138 745 149 0\\nC 3 93 13 108 0\\no 3 97 21 108 0\\nm 15 93 32 108 0\\np 22 97 34 105 0\\na 34 93 42 105 0\\nn 43 97 49 105 0\\ny 50 94 65 105 0\\nN 70 97 80 108 0\\na 81 97 88 105 0\\nm 82 97 99 108 0\\ne 89 97 107 105 0\\nC 541 98 549 108 0\\no 542 95 558 108 0\\nm 550 98 557 105 0\\np 558 98 567 105 0\\na 569 95 575 105 0\\nn 576 98 582 105 0\\ny 584 98 590 105 0\\n_ 591 95 604 105 0\\nX 604 95 610 108 0\\nx 605 98 613 108 0\\nE 3 32 13 43 0\\nm 5 28 21 43 0\\np 13 32 25 40 0\\nl 26 28 33 40 0\\no 34 32 45 43 0\\ny 46 29 53 40 0\\ne 54 32 60 40 0\\ne 61 32 67 40 0\\nN 72 32 83 43 0\\na 77 32 94 43 0\\nm 84 32 103 40 0\\ne 103 32 110 40 0\\nE 541 33 548 43 0\\nm 542 30 558 43 0\\np 550 33 559 40 0\\nl 561 30 567 40 0\\no 568 33 570 43 0\\ny 571 30 584 40 0\\ne 585 33 591 40 0\\ne 592 33 599 40 0\\n_ 593 30 605 43 0\\nX 599 30 615 43 0\\n'"
      ]
     },
     "execution_count": 41,
     "metadata": {},
     "output_type": "execute_result"
    }
   ],
   "source": [
    "image_values_pos"
   ]
  },
  {
   "cell_type": "code",
   "execution_count": 42,
   "metadata": {},
   "outputs": [
    {
     "name": "stdout",
     "output_type": "stream",
     "text": [
      "--------------------\n",
      "Image Values + Positions\n",
      "--------------------\n",
      "C 679 141 689 152 0\n",
      "o 691 141 698 149 0\n",
      "m 699 141 711 149 0\n",
      "p 702 138 718 152 0\n",
      "a 712 138 720 149 0\n",
      "n 721 141 728 149 0\n",
      "y 729 138 745 149 0\n",
      "C 3 93 13 108 0\n",
      "o 3 97 21 108 0\n",
      "m 15 93 32 108 0\n",
      "p 22 97 34 105 0\n",
      "a 34 93 42 105 0\n",
      "n 43 97 49 105 0\n",
      "y 50 94 65 105 0\n",
      "N 70 97 80 108 0\n",
      "a 81 97 88 105 0\n",
      "m 82 97 99 108 0\n",
      "e 89 97 107 105 0\n",
      "C 541 98 549 108 0\n",
      "o 542 95 558 108 0\n",
      "m 550 98 557 105 0\n",
      "p 558 98 567 105 0\n",
      "a 569 95 575 105 0\n",
      "n 576 98 582 105 0\n",
      "y 584 98 590 105 0\n",
      "_ 591 95 604 105 0\n",
      "X 604 95 610 108 0\n",
      "x 605 98 613 108 0\n",
      "E 3 32 13 43 0\n",
      "m 5 28 21 43 0\n",
      "p 13 32 25 40 0\n",
      "l 26 28 33 40 0\n",
      "o 34 32 45 43 0\n",
      "y 46 29 53 40 0\n",
      "e 54 32 60 40 0\n",
      "e 61 32 67 40 0\n",
      "N 72 32 83 43 0\n",
      "a 77 32 94 43 0\n",
      "m 84 32 103 40 0\n",
      "e 103 32 110 40 0\n",
      "E 541 33 548 43 0\n",
      "m 542 30 558 43 0\n",
      "p 550 33 559 40 0\n",
      "l 561 30 567 40 0\n",
      "o 568 33 570 43 0\n",
      "y 571 30 584 40 0\n",
      "e 585 33 591 40 0\n",
      "e 592 33 599 40 0\n",
      "_ 593 30 605 43 0\n",
      "X 599 30 615 43 0\n",
      "\n"
     ]
    }
   ],
   "source": [
    "####################################\n",
    "# Image to String + Text Positions #\n",
    "####################################\n",
    "print(\"--\"*10)\n",
    "print(\"Image Values + Positions\")\n",
    "print(\"--\"*10)\n",
    "print(image_values_pos)"
   ]
  },
  {
   "cell_type": "markdown",
   "metadata": {},
   "source": [
    "#### `Image Text Highlighting`"
   ]
  },
  {
   "cell_type": "code",
   "execution_count": 43,
   "metadata": {},
   "outputs": [
    {
     "name": "stdout",
     "output_type": "stream",
     "text": [
      "Image Height : 161, Image Width : 1429\n"
     ]
    }
   ],
   "source": [
    "hImg, wImg, _ = img.shape\n",
    "print(f\"Image Height : {hImg}, Image Width : {wImg}\")"
   ]
  },
  {
   "cell_type": "code",
   "execution_count": 49,
   "metadata": {},
   "outputs": [
    {
     "name": "stdout",
     "output_type": "stream",
     "text": [
      "[['C', '679', '141', '689', '152', '0'], ['o', '691', '141', '698', '149', '0'], ['m', '699', '141', '711', '149', '0'], ['p', '702', '138', '718', '152', '0'], ['a', '712', '138', '720', '149', '0'], ['n', '721', '141', '728', '149', '0'], ['y', '729', '138', '745', '149', '0'], ['C', '3', '93', '13', '108', '0'], ['o', '3', '97', '21', '108', '0'], ['m', '15', '93', '32', '108', '0'], ['p', '22', '97', '34', '105', '0'], ['a', '34', '93', '42', '105', '0'], ['n', '43', '97', '49', '105', '0'], ['y', '50', '94', '65', '105', '0'], ['N', '70', '97', '80', '108', '0'], ['a', '81', '97', '88', '105', '0'], ['m', '82', '97', '99', '108', '0'], ['e', '89', '97', '107', '105', '0'], ['C', '541', '98', '549', '108', '0'], ['o', '542', '95', '558', '108', '0'], ['m', '550', '98', '557', '105', '0'], ['p', '558', '98', '567', '105', '0'], ['a', '569', '95', '575', '105', '0'], ['n', '576', '98', '582', '105', '0'], ['y', '584', '98', '590', '105', '0'], ['_', '591', '95', '604', '105', '0'], ['X', '604', '95', '610', '108', '0'], ['x', '605', '98', '613', '108', '0'], ['E', '3', '32', '13', '43', '0'], ['m', '5', '28', '21', '43', '0'], ['p', '13', '32', '25', '40', '0'], ['l', '26', '28', '33', '40', '0'], ['o', '34', '32', '45', '43', '0'], ['y', '46', '29', '53', '40', '0'], ['e', '54', '32', '60', '40', '0'], ['e', '61', '32', '67', '40', '0'], ['N', '72', '32', '83', '43', '0'], ['a', '77', '32', '94', '43', '0'], ['m', '84', '32', '103', '40', '0'], ['e', '103', '32', '110', '40', '0'], ['E', '541', '33', '548', '43', '0'], ['m', '542', '30', '558', '43', '0'], ['p', '550', '33', '559', '40', '0'], ['l', '561', '30', '567', '40', '0'], ['o', '568', '33', '570', '43', '0'], ['y', '571', '30', '584', '40', '0'], ['e', '585', '33', '591', '40', '0'], ['e', '592', '33', '599', '40', '0'], ['_', '593', '30', '605', '43', '0'], ['X', '599', '30', '615', '43', '0']]\n"
     ]
    }
   ],
   "source": [
    "letter_boxes = []\n",
    "text_boxes = pytesseract.image_to_boxes(img)\n",
    "for each_letter_box in text_boxes.splitlines():\n",
    "    letter_box = each_letter_box.split(' ')\n",
    "    letter_boxes.append(letter_box)\n",
    "print(letter_boxes)"
   ]
  },
  {
   "cell_type": "markdown",
   "metadata": {},
   "source": [
    "- `Converting Letter Boxes Multiple Lists into Matrix`"
   ]
  },
  {
   "cell_type": "code",
   "execution_count": 57,
   "metadata": {},
   "outputs": [
    {
     "data": {
      "text/plain": [
       "array([['C', '679', '141', '689', '152', '0'],\n",
       "       ['o', '691', '141', '698', '149', '0'],\n",
       "       ['m', '699', '141', '711', '149', '0'],\n",
       "       ['p', '702', '138', '718', '152', '0'],\n",
       "       ['a', '712', '138', '720', '149', '0'],\n",
       "       ['n', '721', '141', '728', '149', '0'],\n",
       "       ['y', '729', '138', '745', '149', '0'],\n",
       "       ['C', '3', '93', '13', '108', '0'],\n",
       "       ['o', '3', '97', '21', '108', '0'],\n",
       "       ['m', '15', '93', '32', '108', '0'],\n",
       "       ['p', '22', '97', '34', '105', '0'],\n",
       "       ['a', '34', '93', '42', '105', '0'],\n",
       "       ['n', '43', '97', '49', '105', '0'],\n",
       "       ['y', '50', '94', '65', '105', '0'],\n",
       "       ['N', '70', '97', '80', '108', '0'],\n",
       "       ['a', '81', '97', '88', '105', '0'],\n",
       "       ['m', '82', '97', '99', '108', '0'],\n",
       "       ['e', '89', '97', '107', '105', '0'],\n",
       "       ['C', '541', '98', '549', '108', '0'],\n",
       "       ['o', '542', '95', '558', '108', '0'],\n",
       "       ['m', '550', '98', '557', '105', '0'],\n",
       "       ['p', '558', '98', '567', '105', '0'],\n",
       "       ['a', '569', '95', '575', '105', '0'],\n",
       "       ['n', '576', '98', '582', '105', '0'],\n",
       "       ['y', '584', '98', '590', '105', '0'],\n",
       "       ['_', '591', '95', '604', '105', '0'],\n",
       "       ['X', '604', '95', '610', '108', '0'],\n",
       "       ['x', '605', '98', '613', '108', '0'],\n",
       "       ['E', '3', '32', '13', '43', '0'],\n",
       "       ['m', '5', '28', '21', '43', '0'],\n",
       "       ['p', '13', '32', '25', '40', '0'],\n",
       "       ['l', '26', '28', '33', '40', '0'],\n",
       "       ['o', '34', '32', '45', '43', '0'],\n",
       "       ['y', '46', '29', '53', '40', '0'],\n",
       "       ['e', '54', '32', '60', '40', '0'],\n",
       "       ['e', '61', '32', '67', '40', '0'],\n",
       "       ['N', '72', '32', '83', '43', '0'],\n",
       "       ['a', '77', '32', '94', '43', '0'],\n",
       "       ['m', '84', '32', '103', '40', '0'],\n",
       "       ['e', '103', '32', '110', '40', '0'],\n",
       "       ['E', '541', '33', '548', '43', '0'],\n",
       "       ['m', '542', '30', '558', '43', '0'],\n",
       "       ['p', '550', '33', '559', '40', '0'],\n",
       "       ['l', '561', '30', '567', '40', '0'],\n",
       "       ['o', '568', '33', '570', '43', '0'],\n",
       "       ['y', '571', '30', '584', '40', '0'],\n",
       "       ['e', '585', '33', '591', '40', '0'],\n",
       "       ['e', '592', '33', '599', '40', '0'],\n",
       "       ['_', '593', '30', '605', '43', '0'],\n",
       "       ['X', '599', '30', '615', '43', '0']], dtype='<U3')"
      ]
     },
     "execution_count": 57,
     "metadata": {},
     "output_type": "execute_result"
    }
   ],
   "source": [
    "# np.column_stack(letter_boxes) # It is like transpose of row_stack\n",
    "final_text_boxes_array = np.row_stack(letter_boxes)\n",
    "final_text_boxes_array"
   ]
  },
  {
   "cell_type": "markdown",
   "metadata": {},
   "source": [
    "- `Array Matrix : Shape`"
   ]
  },
  {
   "cell_type": "code",
   "execution_count": 68,
   "metadata": {},
   "outputs": [
    {
     "data": {
      "text/plain": [
       "(50, 6)"
      ]
     },
     "execution_count": 68,
     "metadata": {},
     "output_type": "execute_result"
    }
   ],
   "source": [
    "final_text_boxes_array.shape"
   ]
  },
  {
   "cell_type": "markdown",
   "metadata": {},
   "source": [
    "- `Sample Iteratation Through Matrix(nd Array)`"
   ]
  },
  {
   "cell_type": "code",
   "execution_count": 72,
   "metadata": {},
   "outputs": [
    {
     "name": "stdout",
     "output_type": "stream",
     "text": [
      "letter : C, x_cord : 679, y_cord : 141, width : 689, height : 152\n"
     ]
    }
   ],
   "source": [
    "letter, x_cord, y_cord, width, height = final_text_boxes_array[0][0], \\\n",
    "                                        int(final_text_boxes_array[0][1]), \\\n",
    "                                        int(final_text_boxes_array[0][2]), \\\n",
    "                                        int(final_text_boxes_array[0][3]), \\\n",
    "                                        int(final_text_boxes_array[0][4])\n",
    "print(f\"letter : {letter}, x_cord : {x_cord}, y_cord : {y_cord}, width : {width}, height : {height}\")"
   ]
  },
  {
   "cell_type": "markdown",
   "metadata": {},
   "source": [
    "- `Text Highlight - Using Coordinates`"
   ]
  },
  {
   "cell_type": "code",
   "execution_count": 73,
   "metadata": {},
   "outputs": [],
   "source": [
    "def image_to_array(img_op):\n",
    "    ##### Letter Lists\n",
    "    letter_boxes = []\n",
    "    text_boxes = pytesseract.image_to_boxes(img_op)\n",
    "    for each_letter_box in text_boxes.splitlines():\n",
    "        letter_box = each_letter_box.split(' ')\n",
    "        letter_boxes.append(letter_box)\n",
    "    ##### Convert Letter Lists into Matrix Array\n",
    "    final_text_boxes_array = np.row_stack(letter_boxes)\n",
    "    return final_text_boxes_array"
   ]
  },
  {
   "cell_type": "markdown",
   "metadata": {},
   "source": [
    "- `Plotting`"
   ]
  },
  {
   "cell_type": "code",
   "execution_count": 84,
   "metadata": {},
   "outputs": [
    {
     "data": {
      "text/plain": [
       "<Figure size 640x480 with 0 Axes>"
      ]
     },
     "metadata": {},
     "output_type": "display_data"
    },
    {
     "data": {
      "image/png": "[encoded data removed]",
      "text/plain": [
       "<Figure size 1600x1600 with 1 Axes>"
      ]
     },
     "metadata": {},
     "output_type": "display_data"
    }
   ],
   "source": [
    "##############\n",
    "# Clear Plot #\n",
    "##############\n",
    "plt.clf()\n",
    "################\n",
    "# Select Theme #\n",
    "################\n",
    "plt.style.use(\"classic\")\n",
    "########\n",
    "# Plot #\n",
    "########\n",
    "fig, axes = plt.subplots(nrows=1, ncols=1, figsize=(20,20)) # dpi=100\n",
    "##############################\n",
    "# Read Image into cv2 object #\n",
    "##############################\n",
    "img = cv2.imread(filepath)\n",
    "##########################################\n",
    "# Convert Image Output into Matrix Array #\n",
    "##########################################\n",
    "final_text_boxes_array = image_to_array(img)\n",
    "#########################\n",
    "# Image Box Coordinates #\n",
    "#########################\n",
    "for i in range(len(final_text_boxes_array)):\n",
    "    x_cord = int(final_text_boxes_array[i][1])\n",
    "    y_cord = int(final_text_boxes_array[i][2])\n",
    "    width = int(final_text_boxes_array[i][3])\n",
    "    height = int(final_text_boxes_array[i][4])\n",
    "    cv2.rectangle(img, (x_cord, hImg - y_cord), (width, hImg - height), (50, 50, 255), 1)\n",
    "# cv2.putText(img, b[0], (x_cord, hImg - y_cord + 13), cv2.FONT_HERSHEY_SIMPLEX, 0.4, (50, 205, 50), 1)\n",
    "plt.axis('off')\n",
    "plt.imshow(img)\n",
    "plt.show()"
   ]
  }
 ],
 "metadata": {
  "interpreter": {
   "hash": "817dbe0f47062307ca98c18bff5208755736b51873747507f9b99bb1a0c077ab"
  },
  "kernelspec": {
   "display_name": "Python 3.8.5 64-bit ('Image_Analysis': conda)",
   "name": "python3"
  },
  "language_info": {
   "codemirror_mode": {
    "name": "ipython",
    "version": 3
   },
   "file_extension": ".py",
   "mimetype": "text/x-python",
   "name": "python",
   "nbconvert_exporter": "python",
   "pygments_lexer": "ipython3",
   "version": "3.8.5"
  },
  "orig_nbformat": 4
 },
 "nbformat": 4,
 "nbformat_minor": 2
}
